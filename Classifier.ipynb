{
 "cells": [
  {
   "cell_type": "markdown",
   "id": "ca83aa89-627f-47f4-a598-020dfafa65f2",
   "metadata": {},
   "source": [
    "# SMS Classifier\n",
    "Here's where we'll do the actual classifying! We'll load the generated model and do a fun lil interface!"
   ]
  },
  {
   "cell_type": "markdown",
   "id": "7f3ade8f-1d0c-4cb5-9a9f-2ce76c471922",
   "metadata": {},
   "source": [
    "## Imports"
   ]
  },
  {
   "cell_type": "code",
   "execution_count": 2,
   "id": "53b545f7-efb3-44a7-b895-82a0e7c4d874",
   "metadata": {},
   "outputs": [],
   "source": [
    "import pandas as pd\n",
    "from sklearn.feature_extraction.text import CountVectorizer, TfidfVectorizer\n",
    "from sklearn.neighbors import KNeighborsClassifier\n",
    "import numpy as np\n",
    "import nltk.stem\n",
    "import os\n",
    "import sys\n",
    "import pickle\n",
    "import plotly.express as px\n",
    "from sklearn.decomposition import PCA\n",
    "import nbformat"
   ]
  },
  {
   "cell_type": "markdown",
   "id": "9210708b-8494-4f9c-ac9e-7d4ec5672470",
   "metadata": {},
   "source": [
    "## Loading"
   ]
  },
  {
   "cell_type": "code",
   "execution_count": 9,
   "id": "7d31cb57-6e73-4f3f-a298-679441b62644",
   "metadata": {},
   "outputs": [],
   "source": [
    "model, vectorizer, pca = None, None, None\n",
    "\n",
    "english_stemmer = nltk.stem.SnowballStemmer('english')\n",
    "class StemmedCountVectorizer(CountVectorizer):\n",
    "   def build_analyzer(self):\n",
    "     analyzer = super(StemmedCountVectorizer, self).build_analyzer()\n",
    "     return lambda doc: (english_stemmer.stem(w) for w in analyzer(doc))\n",
    "\n",
    "filename = 'pcaknnmodel.pkl'\n",
    "with open(filename, 'rb') as file:\n",
    "    model = pickle.load(file)\n",
    "\n",
    "filename = 'vectorizer.pkl'\n",
    "with open(filename, 'rb') as file:\n",
    "    vectorizer = pickle.load(file)\n",
    "\n",
    "filename = 'pca.pkl'\n",
    "with open(filename, 'rb') as file:\n",
    "    pca = pickle.load(file)"
   ]
  },
  {
   "cell_type": "markdown",
   "id": "0f37fbac-9104-48eb-85d3-a75bd24ba4c4",
   "metadata": {},
   "source": [
    "## Program\n",
    "How to use: just run the cell and type your message. The program will try to predict if your message is a spam or a ham! :)"
   ]
  },
  {
   "cell_type": "code",
   "execution_count": 13,
   "id": "6f7225b8-9b72-44e8-8546-b8ba0880afb4",
   "metadata": {},
   "outputs": [
    {
     "name": "stdout",
     "output_type": "stream",
     "text": [
      "Please type your hypothetical message.\n"
     ]
    },
    {
     "name": "stdin",
     "output_type": "stream",
     "text": [
      ">  i love u\n"
     ]
    },
    {
     "name": "stdout",
     "output_type": "stream",
     "text": [
      "\n",
      "\n",
      " We predict that your message is: ham\n"
     ]
    }
   ],
   "source": [
    "print(\"Please type your hypothetical message.\")\n",
    "inp_msg = input('> ')\n",
    "\n",
    "inp_msg_vectorized = vectorizer.transform([inp_msg])\n",
    "inp_msg_vectorized = pca.transform(inp_msg_vectorized.toarray())\n",
    "\n",
    "prediction = model.predict(inp_msg_vectorized)\n",
    "print(\"\\n\\n We predict that your message is:\", prediction[0])"
   ]
  },
  {
   "cell_type": "code",
   "execution_count": null,
   "id": "7356793e-97f3-4103-9313-e4dd3cd2742f",
   "metadata": {},
   "outputs": [],
   "source": []
  }
 ],
 "metadata": {
  "kernelspec": {
   "display_name": "venv",
   "language": "python",
   "name": "venv"
  },
  "language_info": {
   "codemirror_mode": {
    "name": "ipython",
    "version": 3
   },
   "file_extension": ".py",
   "mimetype": "text/x-python",
   "name": "python",
   "nbconvert_exporter": "python",
   "pygments_lexer": "ipython3",
   "version": "3.13.2"
  }
 },
 "nbformat": 4,
 "nbformat_minor": 5
}
